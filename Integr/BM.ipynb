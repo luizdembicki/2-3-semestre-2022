{
 "cells": [
  {
   "cell_type": "code",
   "execution_count": 3,
   "metadata": {},
   "outputs": [],
   "source": [
    "import numpy as np\n",
    "import math\n",
    "\n",
    "# Massas molares g/mol\n",
    "h2 = 2.016 \n",
    "co = 28.01 \n",
    "co2 = 44.01 \n",
    "n2 = 28.0134 \n",
    "ch3oh = 32.04\n",
    "h2o = 18.01528\n",
    "\n",
    "NE = 1 # número da equipe\n",
    "cco = (53.5 + (NE * 0.25)) / 100 # conversão CO\n",
    "exh2 = (12.8 + NE * 0.2) # excesso H2\n",
    "\n",
    "def molarmassa(C, el):\n",
    "    return(C / el)\n",
    "\n",
    "def frac(c, ele): # retorna fração molar\n",
    "    return(ele / c)\n",
    " "
   ]
  },
  {
   "cell_type": "markdown",
   "metadata": {},
   "source": [
    "Reação Principal: CO + 2 H<sub>2</sub> &rarr; CH<sub>3</sub>OH <br>\n",
    "Reação Secundária: CO<sub>2</sub> + 3 H<sub>2</sub> &rarr; CH<sub>3</sub>OH + H<sub>2</sub>O"
   ]
  },
  {
   "cell_type": "code",
   "execution_count": 4,
   "metadata": {},
   "outputs": [
    {
     "ename": "KeyboardInterrupt",
     "evalue": "",
     "output_type": "error",
     "traceback": [
      "\u001b[1;31m---------------------------------------------------------------------------\u001b[0m",
      "\u001b[1;31mKeyboardInterrupt\u001b[0m                         Traceback (most recent call last)",
      "\u001b[1;32m<ipython-input-4-1bef3e54c792>\u001b[0m in \u001b[0;36m<module>\u001b[1;34m\u001b[0m\n\u001b[0;32m     19\u001b[0m         \u001b[1;31m# c6\u001b[0m\u001b[1;33m\u001b[0m\u001b[1;33m\u001b[0m\u001b[1;33m\u001b[0m\u001b[0m\n\u001b[0;32m     20\u001b[0m         \u001b[0mh2c6\u001b[0m \u001b[1;33m=\u001b[0m \u001b[0mc1\u001b[0m \u001b[1;33m*\u001b[0m \u001b[0mn1h2\u001b[0m \u001b[1;33m-\u001b[0m \u001b[1;33m(\u001b[0m\u001b[0mh2r1\u001b[0m \u001b[1;33m+\u001b[0m \u001b[0mh2r2\u001b[0m\u001b[1;33m)\u001b[0m \u001b[1;31m# h2 em excesso que vai para c6\u001b[0m\u001b[1;33m\u001b[0m\u001b[1;33m\u001b[0m\u001b[0m\n\u001b[1;32m---> 21\u001b[1;33m         \u001b[0mch3ohc6\u001b[0m \u001b[1;33m=\u001b[0m \u001b[0mch3ohr1\u001b[0m \u001b[1;33m+\u001b[0m \u001b[0mch3ohr2\u001b[0m\u001b[1;33m\u001b[0m\u001b[1;33m\u001b[0m\u001b[0m\n\u001b[0m\u001b[0;32m     22\u001b[0m         \u001b[0mcoc6\u001b[0m \u001b[1;33m=\u001b[0m \u001b[1;33m(\u001b[0m\u001b[0mn1co\u001b[0m \u001b[1;33m*\u001b[0m \u001b[0mc1\u001b[0m\u001b[1;33m)\u001b[0m \u001b[1;33m-\u001b[0m \u001b[0mcor1\u001b[0m\u001b[1;33m\u001b[0m\u001b[1;33m\u001b[0m\u001b[0m\n\u001b[0;32m     23\u001b[0m         \u001b[0mn2c6\u001b[0m \u001b[1;33m=\u001b[0m \u001b[0mn1n2\u001b[0m \u001b[1;33m*\u001b[0m \u001b[0mc1\u001b[0m\u001b[1;33m\u001b[0m\u001b[1;33m\u001b[0m\u001b[0m\n",
      "\u001b[1;31mKeyboardInterrupt\u001b[0m: "
     ]
    }
   ],
   "source": [
    "# BM sem reciclo\n",
    "c1 = 1000 # kmol\n",
    "n1co2 = 0.04\n",
    "n1n2 = 0.01\n",
    "\n",
    "C22 = 10000\n",
    "while C22 != 10000: # trocar por um while true e um if break na condição\n",
    "    for i in range( 0, 95000, 1): # variando a proporção h2 + co da entrada  \n",
    "        n1co = i / 100000\n",
    "        n1h2 = 0.95 - n1co # restrição, reajustar como limite de loop talvez\n",
    "        # c6 reação 1\n",
    "        ch3ohr1 = (n1co * cco * c1)\n",
    "        cor1 = (1 - cco) * (n1co * c1)\n",
    "        h2r1 = (n1co * cco * c1 * 2) # consumido h2\n",
    "        # c6 reação 2\n",
    "        ch3ohr2 = (n1co2 * c1)\n",
    "        h2or2 = (n1co2 * c1)\n",
    "        h2r2 = 3 * (n1co2 * c1)\n",
    "        # c6\n",
    "        h2c6 = c1 * n1h2 - (h2r1 + h2r2) # h2 em excesso que vai para c6\n",
    "        ch3ohc6 = ch3ohr1 + ch3ohr2\n",
    "        coc6 = (n1co * c1) - cor1\n",
    "        n2c6 = n1n2 * c1\n",
    "        c6 = h2c6 + ch3ohc6 + coc6 + n2c6 + h2or2\n",
    "        # excesso h2 na reação 1\n",
    "        eh2 = (n1h2 * c1) - h2r1 \n",
    "        Eh2 = exh2 * h2r1\n",
    "        if math.isclose(eh2, Eh2, rel_tol = 1e-3): # restrição excesso\n",
    "            break\n",
    "    "
   ]
  }
 ],
 "metadata": {
  "kernelspec": {
   "display_name": "Python 3.9.0 64-bit",
   "language": "python",
   "name": "python3"
  },
  "language_info": {
   "codemirror_mode": {
    "name": "ipython",
    "version": 3
   },
   "file_extension": ".py",
   "mimetype": "text/x-python",
   "name": "python",
   "nbconvert_exporter": "python",
   "pygments_lexer": "ipython3",
   "version": "3.9.0"
  },
  "orig_nbformat": 4,
  "vscode": {
   "interpreter": {
    "hash": "a698d4dad4d14acaca9348d67d8a56074614960933ae44534f0bb6910f8af6d3"
   }
  }
 },
 "nbformat": 4,
 "nbformat_minor": 2
}
