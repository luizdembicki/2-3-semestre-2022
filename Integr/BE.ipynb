{
 "cells": [
  {
   "cell_type": "code",
   "execution_count": 81,
   "metadata": {},
   "outputs": [],
   "source": [
    "import numpy as np\n",
    "import scipy as sp\n",
    "import scipy.integrate as integrate\n",
    "\n",
    "\n",
    "R = 8.3145 # J/(mol K)\n",
    "Tpad = 298.15\n",
    "Comp = {\n",
    "    \"H2\" : {\n",
    "        \"A\": 3.249,\n",
    "        \"B\": 0.422e3,\n",
    "        \"C\": 0,\n",
    "        \"D\": 0.083e-5\n",
    "    },\n",
    "    \"CO\" : {\n",
    "        \"A\": 3.376,\n",
    "        \"B\": 0.557e3,\n",
    "        \"C\": 0,\n",
    "        \"D\": -0.031e-5\n",
    "    },\n",
    "    \"CO2\" : {\n",
    "        \"A\": 5.457,\n",
    "        \"B\": 1.045e3,\n",
    "        \"C\": 0,\n",
    "        \"D\": -1.157e-5\n",
    "    },\n",
    "    \"N2\" : {\n",
    "        \"A\": 3.280,\n",
    "        \"B\": 0.593e3,\n",
    "        \"C\": 0,\n",
    "        \"D\": 0.040e-5\n",
    "    },\n",
    "    \"CH3OH\": {\n",
    "        \"omega\" : 0.565,\n",
    "        \"Pc\" : 80.97,\n",
    "        \"Tc\" : 512.64,\n",
    "        \"Tb\" : 337.69,\n",
    "        \"A\": 2.211,\n",
    "        \"B\": 12.216e3,\n",
    "        \"C\": -3.450e6,\n",
    "        \"D\": 0\n",
    "    },\n",
    "    \"H2O\" : {\n",
    "        \"omega\" : 0.344, # Prausnitz\n",
    "        \"Pc\" : 220.64, #Bar\n",
    "        \"Tb\" : 373.15, #K\n",
    "        \"Tc\" : 647.14, #K\n",
    "        \"A\": 3.470, # V.Ness - |\n",
    "        \"B\": 1.450e3,\n",
    "        \"C\": 0,\n",
    "        \"D\": 0.121e-5\n",
    "    }\n",
    "}\n",
    "\n",
    "def toK(c):\n",
    "    return (c + 273.15)\n",
    "\n",
    "def Cp_ig(T, A, B, C, D):\n",
    "    return R * (A + (B * T) + (C * (T ** 2)) + (D * (T ** (-2))))\n",
    "\n",
    "def Cp_L(T, Tc, omega):\n",
    "    return R * (1.45 + (0.45/(1-(T / Tc)) + 0.25 * omega * (17.11 + (25.2 * (1 - (T / Tc))**(1/3)) / (T / Tc) + (1.742)/(1 - (T / Tc)) ) ) )\n",
    "\n",
    "def Hres(P, T, Tc, a, alpha, beta, gamma, omega):\n",
    "    \n",
    "    pass"
   ]
  },
  {
   "cell_type": "code",
   "execution_count": 82,
   "metadata": {},
   "outputs": [
    {
     "name": "stdout",
     "output_type": "stream",
     "text": [
      "int HL = (6326.884488066894, 7.024252832795612e-11)\n",
      "\n",
      "389599.659890988 kJ/mol\n"
     ]
    }
   ],
   "source": [
    "Hig_h2o = integrate.quad(Cp_ig, 273.15, toK(100), args=\n",
    "(Comp[\"H2O\"][\"A\"],\n",
    "Comp[\"H2O\"][\"B\"],\n",
    "Comp[\"H2O\"][\"C\"],\n",
    "Comp[\"H2O\"][\"D\"],\n",
    "))\n",
    "\n",
    "HL_h2o = integrate.quad(Cp_L, 273.15, Comp[\"H2O\"][\"Tb\"], args=\n",
    "(\n",
    "    Comp[\"H2O\"][\"Tc\"],\n",
    "    Comp[\"H2O\"][\"omega\"]\n",
    ")\n",
    ")\n",
    "print(f'int HL = {HL_h2o}\\n')\n",
    "\n",
    "Hig_h2o = Hig_h2o[0] + HL_h2o[0]\n",
    "print(f'{Hig_h2o/1000} kJ/mol')"
   ]
  },
  {
   "cell_type": "code",
   "execution_count": null,
   "metadata": {},
   "outputs": [],
   "source": []
  },
  {
   "cell_type": "code",
   "execution_count": 83,
   "metadata": {},
   "outputs": [
    {
     "name": "stdout",
     "output_type": "stream",
     "text": [
      "873.8873092746368\n"
     ]
    }
   ],
   "source": [
    "import chemicals.heat_capacity as hc\n",
    "\n",
    "\n",
    "water_low_gas_coeffs = [30.09200, 6.832514/1e3, 6.793435/1e6, -2.534480/1e9, 0.082139*1e6]\n",
    "gi = hc.Shomate_integral(toK(100), *water_low_gas_coeffs)\n",
    "\n",
    "print(integrate.quad(hc.Rowlinson_Bondi, 298.15, toK(100), (Comp[\"H2O\"][\"Tc\"], Comp[\"H2O\"][\"omega\"], gi))[0] / 1000)"
   ]
  }
 ],
 "metadata": {
  "kernelspec": {
   "display_name": "Python 3",
   "language": "python",
   "name": "python3"
  },
  "language_info": {
   "codemirror_mode": {
    "name": "ipython",
    "version": 3
   },
   "file_extension": ".py",
   "mimetype": "text/x-python",
   "name": "python",
   "nbconvert_exporter": "python",
   "pygments_lexer": "ipython3",
   "version": "3.11.0"
  },
  "orig_nbformat": 4,
  "vscode": {
   "interpreter": {
    "hash": "c261aea317cc0286b3b3261fbba9abdec21eaa57589985bb7a274bf54d6cc0a7"
   }
  }
 },
 "nbformat": 4,
 "nbformat_minor": 2
}
