{
 "cells": [
  {
   "cell_type": "code",
   "execution_count": 20,
   "metadata": {},
   "outputs": [],
   "source": [
    "import numpy as np\n",
    "import scipy as sp\n",
    "import scipy.integrate as integrate\n",
    "\n",
    "\n",
    "R = 8.3145 # J/(mol K)\n",
    "Tpad = 298.15\n",
    "Comp = {\n",
    "    \"H2\" : {\n",
    "        \"A\": 3.249,\n",
    "        \"B\": 0.422e3,\n",
    "        \"C\": 0,\n",
    "        \"D\": 0.083e-5\n",
    "    },\n",
    "    \"CO\" : {\n",
    "        \"A\": 3.376,\n",
    "        \"B\": 0.557e3,\n",
    "        \"C\": 0,\n",
    "        \"D\": -0.031e-5\n",
    "    },\n",
    "    \"CO2\" : {\n",
    "        \"A\": 5.457,\n",
    "        \"B\": 1.045e3,\n",
    "        \"C\": 0,\n",
    "        \"D\": -1.157e-5\n",
    "    },\n",
    "    \"N2\" : {\n",
    "        \"omega\" : 0.037,\n",
    "        \"Pc\" : 33.98,\n",
    "        \"Tc\" : 126.20,\n",
    "        \"Tb\" : 77.35,\n",
    "        \"A\": 3.280,\n",
    "        \"B\": 0.593e3,\n",
    "        \"C\": 0,\n",
    "        \"D\": 0.040e-5\n",
    "    },\n",
    "    \"CH3OH\": {\n",
    "        \"omega\" : 0.565,\n",
    "        \"Pc\" : 80.97,\n",
    "        \"Tc\" : 512.64,\n",
    "        \"Tb\" : 337.69,\n",
    "        \"A\": 2.211,\n",
    "        \"B\": 12.216e3,\n",
    "        \"C\": -3.450e6,\n",
    "        \"D\": 0\n",
    "    },\n",
    "    \"H2O\" : {\n",
    "        \"omega\" : 0.344, # Prausnitz\n",
    "        \"Pc\" : 220.64, #Bar\n",
    "        \"Tb\" : 373.15, #K\n",
    "        \"Tc\" : 647.14, #K\n",
    "        \"A\": 3.470, # V.Ness - |\n",
    "        \"B\": 1.450e3,\n",
    "        \"C\": 0,\n",
    "        \"D\": 0.121e-5\n",
    "    }\n",
    "}\n",
    "\n",
    "def toK(c):\n",
    "    return (c + 273.15)\n",
    "\n",
    "def toPa(bar):\n",
    "    return (bar * 1e5)\n",
    "\n",
    "def Cp_ig(T, A, B, C, D):\n",
    "    return R * (A + (B * T) + (C * (T ** 2)) + (D * (T ** (-2))))\n",
    "\n",
    "def Cp_L(T, Tc, omega):\n",
    "    return R * (1.45 + (0.45/(1-(T / Tc)) + 0.25 * omega * (17.11 + (25.2 * (1 - (T / Tc))**(1/3)) / (T / Tc) + (1.742)/(1 - (T / Tc)) ) ) )\n",
    "\n",
    "def Hres(P, T, Tc, Pc, omega, isliq):\n",
    "    k = 0.37464 + (0.154226 * omega) - (0.26992 * (omega ** 2))\n",
    "    alphat = (1 + k * (1 - np.sqrt(T/Tc))) ** 2\n",
    "    ac = 0.45724 * (((R ** 2) * (Tc ** 2)) / Pc )\n",
    "    a = ac * alphat\n",
    "    b = 0.07780 * R * (Tc / Pc)\n",
    "    A = (a * P) / ((R ** 2) * (T ** 2.5))\n",
    "    B =  (b * P) / (R * T)\n",
    "    alpha = -1 + B\n",
    "    beta = A - (3 * B ** 2 ) - 2 * B\n",
    "    gamma = - (A * B) + (B ** 2) + (B ** 3)\n",
    "    Z = np.roots([1, alpha, beta, gamma])\n",
    "    Z = Z[np.isreal(Z)]\n",
    "    if isliq == False:\n",
    "        Z = max(Z)\n",
    "    else:\n",
    "        Z = min(Z)\n",
    "    Tdadt = - ac * k * alphat * (T / Tc)\n",
    "    h = (b * P) / (Z * R * T)\n",
    "    return R * T * (  (Z - 1) - ((a - Tdadt)/(2 * np.sqrt(2) * b * R * T)) * np.log((1 + h * (1 + np.sqrt(2)))/(1 + h * (1 - np.sqrt(2))))  )"
   ]
  },
  {
   "cell_type": "code",
   "execution_count": 21,
   "metadata": {},
   "outputs": [
    {
     "name": "stdout",
     "output_type": "stream",
     "text": [
      "-96.45953202979449\n"
     ]
    }
   ],
   "source": [
    "Hr = Hres((40), toK(120), Comp[\"N2\"][\"Tc\"],  Comp[\"N2\"][\"Pc\"], Comp[\"N2\"][\"omega\"] , False)\n",
    "print(Hr)"
   ]
  },
  {
   "cell_type": "code",
   "execution_count": 22,
   "metadata": {},
   "outputs": [
    {
     "name": "stdout",
     "output_type": "stream",
     "text": [
      "(161904137.41807503, 1.7974970114362224e-06)\n",
      "(3.533973874862518e+23+0j)\n",
      "161904.13741807503 kJ/mol\n"
     ]
    }
   ],
   "source": [
    "Hig= integrate.quad(Cp_ig, Tpad, toK(120), args=\n",
    "(Comp[\"N2\"][\"A\"],\n",
    "Comp[\"N2\"][\"B\"],\n",
    "Comp[\"N2\"][\"C\"],\n",
    "Comp[\"N2\"][\"D\"],\n",
    "))\n",
    "\n",
    "HL_h2o = integrate.quad(Cp_L, 273.15, Comp[\"H2O\"][\"Tb\"], args=\n",
    "(\n",
    "    Comp[\"H2O\"][\"Tc\"],\n",
    "    Comp[\"H2O\"][\"omega\"]\n",
    ")\n",
    ")\n",
    "\n",
    "print(Hig)\n",
    "Hig = Hig[0]\n",
    "Hr = Hres(40, toK(120), Comp[\"N2\"][\"Tc\"],  Comp[\"N2\"][\"Pc\"], Comp[\"N2\"][\"omega\"] , False)\n",
    "H = Hig + Hr\n",
    "print(Hr)\n",
    "print(f'{H/1000} kJ/mol')"
   ]
  },
  {
   "cell_type": "code",
   "execution_count": null,
   "metadata": {},
   "outputs": [],
   "source": []
  },
  {
   "cell_type": "code",
   "execution_count": 23,
   "metadata": {},
   "outputs": [
    {
     "name": "stdout",
     "output_type": "stream",
     "text": [
      "4820.022883747376\n"
     ]
    },
    {
     "name": "stderr",
     "output_type": "stream",
     "text": [
      "C:\\Users\\luizd\\AppData\\Local\\Temp\\ipykernel_7448\\4169039008.py:7: IntegrationWarning: The maximum number of subdivisions (50) has been achieved.\n",
      "  If increasing the limit yields no improvement it is advised to analyze \n",
      "  the integrand in order to determine the difficulties.  If the position of a \n",
      "  local difficulty can be determined (singularity, discontinuity) one will \n",
      "  probably gain from splitting up the interval and calling the integrator \n",
      "  on the subranges.  Perhaps a special-purpose integrator should be used.\n",
      "  print(integrate.quad(hc.Rowlinson_Bondi, 0, toK(100), (Comp[\"H2O\"][\"Tc\"], Comp[\"H2O\"][\"omega\"], gi))[0] / 1000)\n"
     ]
    }
   ],
   "source": [
    "import chemicals.heat_capacity as hc\n",
    "\n",
    "\n",
    "water_low_gas_coeffs = [30.09200, 6.832514/1e3, 6.793435/1e6, -2.534480/1e9, 0.082139*1e6]\n",
    "gi = hc.Shomate_integral(toK(100), *water_low_gas_coeffs)\n",
    "\n",
    "print(integrate.quad(hc.Rowlinson_Bondi, 0, toK(100), (Comp[\"H2O\"][\"Tc\"], Comp[\"H2O\"][\"omega\"], gi))[0] / 1000)"
   ]
  }
 ],
 "metadata": {
  "kernelspec": {
   "display_name": "Python 3",
   "language": "python",
   "name": "python3"
  },
  "language_info": {
   "codemirror_mode": {
    "name": "ipython",
    "version": 3
   },
   "file_extension": ".py",
   "mimetype": "text/x-python",
   "name": "python",
   "nbconvert_exporter": "python",
   "pygments_lexer": "ipython3",
   "version": "3.11.0"
  },
  "orig_nbformat": 4,
  "vscode": {
   "interpreter": {
    "hash": "c261aea317cc0286b3b3261fbba9abdec21eaa57589985bb7a274bf54d6cc0a7"
   }
  }
 },
 "nbformat": 4,
 "nbformat_minor": 2
}
